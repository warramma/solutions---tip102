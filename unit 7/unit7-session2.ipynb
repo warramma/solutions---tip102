{
 "cells": [
  {
   "cell_type": "markdown",
   "metadata": {},
   "source": [
    "# class notes\n",
    "## types of recursion\n",
    "tail recursion, divide and conquer, backtracking\n",
    "\n",
    "### discussion - think of a problem where recursion naturally fits, why does recursion make sense in that scenario?\n",
    "company org charts\n",
    "* depth first search\n",
    "* trees\n",
    "* child nodes, managers, employees\n",
    "\n"
   ]
  },
  {
   "cell_type": "markdown",
   "metadata": {},
   "source": [
    "# Problem 1: Finding the Perfect Cruise\n",
    "It's vacation time! Given an integer vacation_length and a list of integers cruise_lengths sorted in ascending order, use binary search to return True if there is a cruise length that matches vacation_length and False otherwise.\n",
    "```python\n",
    "def find_cruise_length(cruise_lengths, vacation_length):\n",
    "    pass\n",
    "```\n",
    "Example Usage:\n",
    "```python\n",
    "print(find_cruise_length([9, 10, 11, 12, 13, 14, 15], 13))\n",
    "\n",
    "print(find_cruise_length([8, 9, 12, 13, 13, 14, 15], 11))\n",
    "```\n",
    "Example Output:\n",
    "```\n",
    "True\n",
    "False\n",
    "```"
   ]
  },
  {
   "cell_type": "code",
   "execution_count": 3,
   "metadata": {},
   "outputs": [
    {
     "name": "stdout",
     "output_type": "stream",
     "text": [
      "True\n",
      "False\n"
     ]
    }
   ],
   "source": [
    "def find_cruise_length(cruise_lengths, vacation_length):\n",
    "    left, right = 0, len(cruise_lengths) -1\n",
    "    while left <= right:\n",
    "        mid = (left + right)//2\n",
    "        if cruise_lengths[mid] == vacation_length:\n",
    "            return True\n",
    "        elif cruise_lengths[mid] < vacation_length:\n",
    "            left = mid + 1\n",
    "        else:\n",
    "            right = mid -1\n",
    "\n",
    "    return False\n",
    "\n",
    "print(find_cruise_length([9, 10, 11, 12, 13, 14, 15], 13))\n",
    "\n",
    "print(find_cruise_length([8, 9, 12, 13, 13, 14, 15], 11))"
   ]
  },
  {
   "cell_type": "markdown",
   "metadata": {},
   "source": [
    "# Problem 2: Booking the Perfect Cruise Cabin\n",
    "As part of your cruise planning, you have a list of available cabins sorted in ascending order by their deck level. Given the list of available cabins represented by deck level, cabins, and an integer preferred_deck, write a recursive function find_cabin_index() that returns the index of preferred_deck. If a cabin with your preferred_deck does not exist in cabins, return the index where it would be if it were added to the list to maintain the sorted order.\n",
    "\n",
    "Your algorithm must have O(log n) time complexity.\n",
    "```python\n",
    "def find_cabin_index(cabins, preferred_deck):\n",
    "    pass\n",
    "```\n",
    "Example Usage:\n",
    "```python\n",
    "print(find_cabin_index([1, 3, 5, 6], 5))\n",
    "print(find_cabin_index([1, 3, 5, 6], 2))\n",
    "print(find_cabin_index([1, 3, 5, 6], 7))\n",
    "```\n",
    "Example Output:\n",
    "```\n",
    "2\n",
    "1\n",
    "4\n",
    "```"
   ]
  },
  {
   "cell_type": "code",
   "execution_count": 5,
   "metadata": {},
   "outputs": [
    {
     "name": "stdout",
     "output_type": "stream",
     "text": [
      "2\n",
      "1\n",
      "4\n"
     ]
    }
   ],
   "source": [
    "def find_cabin_index(cabins, preferred_deck):\n",
    "    def recursive_search(left, right):\n",
    "        if left > right:\n",
    "            return left\n",
    "        mid = (left + right) // 2\n",
    "        if cabins[mid] == preferred_deck:\n",
    "            return mid\n",
    "        elif cabins[mid] < preferred_deck:\n",
    "            return recursive_search(mid + 1, right)\n",
    "        else:\n",
    "            return recursive_search(left, mid - 1)\n",
    "    \n",
    "    return recursive_search(0, len(cabins) - 1)\n",
    "\n",
    "print(find_cabin_index([1, 3, 5, 6], 5))\n",
    "print(find_cabin_index([1, 3, 5, 6], 2))\n",
    "print(find_cabin_index([1, 3, 5, 6], 7))"
   ]
  },
  {
   "cell_type": "code",
   "execution_count": 4,
   "metadata": {},
   "outputs": [
    {
     "ename": "TypeError",
     "evalue": "find_cabin_index() takes 2 positional arguments but 4 were given",
     "output_type": "error",
     "traceback": [
      "\u001b[1;31m---------------------------------------------------------------------------\u001b[0m",
      "\u001b[1;31mTypeError\u001b[0m                                 Traceback (most recent call last)",
      "Cell \u001b[1;32mIn[4], line 15\u001b[0m\n\u001b[0;32m     12\u001b[0m         \u001b[38;5;28;01mreturn\u001b[39;00m find_cabin_index(cabins, preferred_deck, start, end\u001b[38;5;241m=\u001b[39mmid\u001b[38;5;241m-\u001b[39m\u001b[38;5;241m1\u001b[39m)\n\u001b[0;32m     14\u001b[0m     \u001b[38;5;28;01mreturn\u001b[39;00m find_cabin_index(cabins, preferred_deck, mid\u001b[38;5;241m+\u001b[39m\u001b[38;5;241m1\u001b[39m, end)\n\u001b[1;32m---> 15\u001b[0m \u001b[38;5;28mprint\u001b[39m(\u001b[43mfind_cabin_index\u001b[49m\u001b[43m(\u001b[49m\u001b[43m[\u001b[49m\u001b[38;5;241;43m1\u001b[39;49m\u001b[43m,\u001b[49m\u001b[43m \u001b[49m\u001b[38;5;241;43m3\u001b[39;49m\u001b[43m,\u001b[49m\u001b[43m \u001b[49m\u001b[38;5;241;43m5\u001b[39;49m\u001b[43m,\u001b[49m\u001b[43m \u001b[49m\u001b[38;5;241;43m6\u001b[39;49m\u001b[43m]\u001b[49m\u001b[43m,\u001b[49m\u001b[43m \u001b[49m\u001b[38;5;241;43m5\u001b[39;49m\u001b[43m)\u001b[49m)\n\u001b[0;32m     16\u001b[0m \u001b[38;5;28mprint\u001b[39m(find_cabin_index([\u001b[38;5;241m1\u001b[39m, \u001b[38;5;241m3\u001b[39m, \u001b[38;5;241m5\u001b[39m, \u001b[38;5;241m6\u001b[39m], \u001b[38;5;241m2\u001b[39m))\n\u001b[0;32m     17\u001b[0m \u001b[38;5;28mprint\u001b[39m(find_cabin_index([\u001b[38;5;241m1\u001b[39m, \u001b[38;5;241m3\u001b[39m, \u001b[38;5;241m5\u001b[39m, \u001b[38;5;241m6\u001b[39m], \u001b[38;5;241m7\u001b[39m))\n",
      "Cell \u001b[1;32mIn[4], line 14\u001b[0m, in \u001b[0;36mfind_cabin_index\u001b[1;34m(cabins, preferred_deck)\u001b[0m\n\u001b[0;32m     11\u001b[0m \u001b[38;5;28;01mif\u001b[39;00m preferred_deck \u001b[38;5;241m<\u001b[39m cabins[mid]:\n\u001b[0;32m     12\u001b[0m     \u001b[38;5;28;01mreturn\u001b[39;00m find_cabin_index(cabins, preferred_deck, start, end\u001b[38;5;241m=\u001b[39mmid\u001b[38;5;241m-\u001b[39m\u001b[38;5;241m1\u001b[39m)\n\u001b[1;32m---> 14\u001b[0m \u001b[38;5;28;01mreturn\u001b[39;00m \u001b[43mfind_cabin_index\u001b[49m\u001b[43m(\u001b[49m\u001b[43mcabins\u001b[49m\u001b[43m,\u001b[49m\u001b[43m \u001b[49m\u001b[43mpreferred_deck\u001b[49m\u001b[43m,\u001b[49m\u001b[43m \u001b[49m\u001b[43mmid\u001b[49m\u001b[38;5;241;43m+\u001b[39;49m\u001b[38;5;241;43m1\u001b[39;49m\u001b[43m,\u001b[49m\u001b[43m \u001b[49m\u001b[43mend\u001b[49m\u001b[43m)\u001b[49m\n",
      "\u001b[1;31mTypeError\u001b[0m: find_cabin_index() takes 2 positional arguments but 4 were given"
     ]
    }
   ],
   "source": [
    "def find_cabin_index(cabins, preferred_deck):\n",
    "    end = len(cabins) -1\n",
    "    start = 0\n",
    "    if end > len(cabins):\n",
    "        return len(cabins) -1\n",
    "    if start > end:\n",
    "        return start\n",
    "    mid = (start + end)//2\n",
    "    if cabins[mid] == preferred_deck:\n",
    "        return mid\n",
    "    if preferred_deck < cabins[mid]:\n",
    "        return find_cabin_index(cabins, preferred_deck, start, end=mid-1)\n",
    "    \n",
    "    return find_cabin_index(cabins, preferred_deck, mid+1, end)\n",
    "print(find_cabin_index([1, 3, 5, 6], 5))\n",
    "print(find_cabin_index([1, 3, 5, 6], 2))\n",
    "print(find_cabin_index([1, 3, 5, 6], 7))"
   ]
  },
  {
   "cell_type": "code",
   "execution_count": null,
   "metadata": {},
   "outputs": [],
   "source": []
  },
  {
   "cell_type": "markdown",
   "metadata": {},
   "source": [
    "# Problem 3: Count Checked In Passengers\n",
    "As a cruise ship worker, you're in charge of tracking how many passengers have checked in to their rooms thus far. You are given a list of rooms where passengers are either checked in (represented by a 1) or not checked in (represented by a 0). The list is sorted, so all the 0s appear before any 1s.\n",
    "\n",
    "Write a function count_checked_in_passengers() that efficiently counts and returns the total number of checked-in passengers (1s) in the list in O(log n) time.\n",
    "```python\n",
    "def checked_in_passnegers(rooms):\n",
    "    pass\n",
    "```\n",
    "Example Usage:\n",
    "```python\n",
    "rooms1 = [0, 0, 0, 1, 1, 1, 1]\n",
    "rooms2 = [0, 0, 0, 0, 0, 1]\n",
    "rooms3 = [0, 0, 0, 0, 0, 0]\n",
    "\n",
    "print(count_checked_in_passengers(rooms1)) \n",
    "print(count_checked_in_passengers(rooms2))\n",
    "print(count_checked_in_passengers(rooms3))\n",
    "```\n",
    "Example Output:\n",
    "```\n",
    "4\n",
    "1\n",
    "0\n",
    "```"
   ]
  },
  {
   "cell_type": "code",
   "execution_count": 6,
   "metadata": {},
   "outputs": [
    {
     "name": "stdout",
     "output_type": "stream",
     "text": [
      "4\n",
      "1\n",
      "0\n"
     ]
    }
   ],
   "source": [
    "def count_checked_in_passengers(rooms):\n",
    "    left, right = 0, len(rooms) -1\n",
    "    while left <= right:\n",
    "        mid = (left + right)//2\n",
    "        if rooms[mid] == 1:\n",
    "            right = mid -1\n",
    "        else:\n",
    "            left = mid + 1\n",
    "    return len(rooms) - left\n",
    "\n",
    "rooms1 = [0, 0, 0, 1, 1, 1, 1]\n",
    "rooms2 = [0, 0, 0, 0, 0, 1]\n",
    "rooms3 = [0, 0, 0, 0, 0, 0]\n",
    "\n",
    "print(count_checked_in_passengers(rooms1)) \n",
    "print(count_checked_in_passengers(rooms2))\n",
    "print(count_checked_in_passengers(rooms3))"
   ]
  },
  {
   "cell_type": "code",
   "execution_count": null,
   "metadata": {},
   "outputs": [],
   "source": [
    "#recursive version\n",
    "def count_checked_in_recursive(rooms):\n",
    "    pass\n",
    "#use recursion and get sum of 1s"
   ]
  },
  {
   "cell_type": "markdown",
   "metadata": {},
   "source": [
    "# Problem 4: Determining Profitability of Excursions\n",
    "As the activities director on a cruise ship, you’re organizing excursions for the passengers. You have a sorted list of non-negative integers excursion_counts, where each number represents the number of passengers who have signed up for various excursions at your next cruise destination. The list is considered profitable if there exists a number x such that there are exactly x excursions that have at least x passengers signed up.\n",
    "\n",
    "Write a function that detrmines whether excursion_counts is profitable. If it is profitable, return the value of x. If it is not profitable, return -1. It can be proven that if excursion_counts is profitable, the value for x is unique.\n",
    "\n",
    "Evaluate the time and space complexity of your solution. Define your variables and provide a rationale for why you believe your solution has the stated time and space complexity.\n",
    "\n",
    "```python\n",
    "def is_profitable(excursion_counts):\n",
    "    pass\n",
    "```\n",
    "Example Usage:\n",
    "```python\n",
    "print(is_profitable([3, 5]))\n",
    "print(is_profitable([0, 0]))\n",
    "```\n",
    "Example Output:\n",
    "```\n",
    "2\n",
    "Example 1 Explanation: There are 2 values (3 and 5) that are greater than or equal to 2.\n",
    "\n",
    "-1 \n",
    "Example 2 Explanation: No numbers fit the criteria for x.\n",
    "    - If x = 0, there should be 0 numbers >= x, but there are 2.\n",
    "\t- If x = 1, there should be 1 number >= x, but there are 0.\n",
    "\t- If x = 2, there should be 2 numbers >= x, but there are 0.\n",
    "\t- x cannot be greater since there are only 2 numbers in nums.\n",
    "```"
   ]
  },
  {
   "cell_type": "code",
   "execution_count": null,
   "metadata": {},
   "outputs": [],
   "source": [
    "def is_profitable(excursion_counts):\n",
    "    n = len(excursion_counts)\n",
    "    left = 0\n",
    "    right = n\n",
    "\n",
    "    while left <= right:\n",
    "        mid = (left + right)//2\n",
    "\n",
    "        count = sum(1 for count in excursion_counts if count == mid)\n",
    "        if count == mid:\n",
    "            return mid\n",
    "        elif count > mid:\n",
    "            left += 1\n",
    "        else:\n",
    "            right -= right\n",
    "    return -1\n",
    "\n",
    "print(is_profitable([3, 5]))\n",
    "print(is_profitable([0, 0]))"
   ]
  },
  {
   "cell_type": "markdown",
   "metadata": {},
   "source": [
    "# Problem 5: Finding the Shallowest Point\n",
    "As the captain of the cruise ship, you need to take a detour to steer clear of an incoming storm. Given an array of integers depths representing the varying water depths along your potential new route, write a function find_shallowest_point() to help you decide whether the new route is deep enough for your ship. The function should use a divide-and-conquer approach to return the shallowest point (minimum value) in depths. You may not use the built-in min() function.\n",
    "\n",
    "Evaluate the time and space complexity of your solution. Define your variables and provide a rationale for why you believe your solution has the stated time and space complexity.\n",
    "```python\n",
    "def find_shallowest_point(arr):\n",
    "    pass\n",
    "```\n",
    "Example Usage:\n",
    "```python\n",
    "print(find_shallowest_point([5, 7, 2, 8, 3]))\n",
    "print(find_shallowest_point([12, 15, 10, 21]))\n",
    "```\n",
    "Example Output:\n",
    "```\n",
    "2\n",
    "10\n",
    "```"
   ]
  },
  {
   "cell_type": "code",
   "execution_count": 9,
   "metadata": {},
   "outputs": [
    {
     "name": "stdout",
     "output_type": "stream",
     "text": [
      "2\n",
      "10\n"
     ]
    }
   ],
   "source": [
    "def find_shallowest_point(arr):\n",
    "    left = 0\n",
    "    right = len(arr) -1\n",
    "    def recursive_min(left, right):\n",
    "        if left == right:\n",
    "            return arr[left]\n",
    "        mid = (left + right)//2\n",
    "\n",
    "        left_min = recursive_min(left, mid)\n",
    "        right_min  = recursive_min(mid+1, right)\n",
    "\n",
    "        return left_min if left_min < right_min else right_min\n",
    "    return recursive_min(left, right)\n",
    "\n",
    "print(find_shallowest_point([5, 7, 2, 8, 3]))\n",
    "print(find_shallowest_point([12, 15, 10, 21]))"
   ]
  },
  {
   "cell_type": "markdown",
   "metadata": {},
   "source": [
    "# Problem 6: Cruise Ship Treasure Hunt\n",
    "As a fun game, the cruise ship director has organized a treasure hunt for the kids on board and hidden a chest of candy in one of the rooms on board. The rooms are organized in a m x n grid, where each row and each column are sorted in ascending order by room number. Given an integer representing the room number where the prize is hidden treasure, use a divide and conquer approach to return a tuple in the form (row, col) representing the row and column indices where treasure was found. If treasure is not in the matrix, return (-1, -1).\n",
    "\n",
    "Evaluate the time and space complexity of your solution. Define your variables and provide a rationale for why you believe your solution has the stated time and space complexity.\n",
    "```python\n",
    "def find_treasure(matrix, treasure):\n",
    "\tpass\n",
    "```\n",
    "Example Usage:\n",
    "```python\n",
    "rooms = [\n",
    "    [1, 4, 7, 11],\n",
    "    [8, 9, 10, 20],\n",
    "    [11, 12, 17, 30],\n",
    "    [18, 21, 23, 40]\n",
    "]\n",
    "\n",
    "print(find_treasure(rooms, 17))\n",
    "print(find_treasure(rooms, 5))\n",
    "```\n",
    "Example Output:\n",
    "```\n",
    "(2, 2)\n",
    "(-1, -1)\n",
    "```"
   ]
  },
  {
   "cell_type": "code",
   "execution_count": null,
   "metadata": {},
   "outputs": [],
   "source": [
    "def find_treasure(matrix, treasure):\n",
    "\tif not matrix or not matrix[0]:\n",
    "\t\treturn (-1,-1)\n",
    "\tdef helper(start_row, start_column, end_row, end_column):\n",
    "\t\tif start_row > end_row or start_column > end_column:\n",
    "\t\t\treturn (-1,-1)\n",
    "\t\tmid_row = (start_row + end_row)//2\n",
    "\t\tmid_column = (start_column + end_column)//2\n",
    "\t\tcur_mid = matrix[mid_row][mid_column]\n",
    "\t\tif cur_mid == treasure:\n",
    "\t\t\treturn (mid_row, mid_column)\n",
    "\t\tif treasure < cur_mid:\n",
    "\t\t\tresult = helper(start_row, start_column, mid_row - 1, mid_column-1)\n",
    "\t\t\tif result!=(-1,-1):\n",
    "\t\t\t\treturn result\n",
    "\t\t\tresult = helper(start_row, mid_column, end_column, )\n",
    "\n",
    "rooms = [\n",
    "    [1, 4, 7, 11],\n",
    "    [8, 9, 10, 20],\n",
    "    [11, 12, 17, 30],\n",
    "    [18, 21, 23, 40]\n",
    "]\n",
    "\n",
    "print(find_treasure(rooms, 17))\n",
    "print(find_treasure(rooms, 5))"
   ]
  }
 ],
 "metadata": {
  "kernelspec": {
   "display_name": "Python 3",
   "language": "python",
   "name": "python3"
  },
  "language_info": {
   "codemirror_mode": {
    "name": "ipython",
    "version": 3
   },
   "file_extension": ".py",
   "mimetype": "text/x-python",
   "name": "python",
   "nbconvert_exporter": "python",
   "pygments_lexer": "ipython3",
   "version": "3.12.3"
  }
 },
 "nbformat": 4,
 "nbformat_minor": 2
}
