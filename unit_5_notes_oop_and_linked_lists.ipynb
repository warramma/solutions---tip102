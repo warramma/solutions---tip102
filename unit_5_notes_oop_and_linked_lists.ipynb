{
  "nbformat": 4,
  "nbformat_minor": 0,
  "metadata": {
    "colab": {
      "provenance": [],
      "authorship_tag": "ABX9TyMZ8dUnkfYvalAQwt/KcG+3",
      "include_colab_link": true
    },
    "kernelspec": {
      "name": "python3",
      "display_name": "Python 3"
    },
    "language_info": {
      "name": "python"
    }
  },
  "cells": [
    {
      "cell_type": "markdown",
      "metadata": {
        "id": "view-in-github",
        "colab_type": "text"
      },
      "source": [
        "<a href=\"https://colab.research.google.com/github/warramma/solutions---tip102/blob/main/unit_5_notes_oop_and_linked_lists.ipynb\" target=\"_parent\"><img src=\"https://colab.research.google.com/assets/colab-badge.svg\" alt=\"Open In Colab\"/></a>"
      ]
    },
    {
      "cell_type": "code",
      "execution_count": null,
      "metadata": {
        "id": "5bokDpq7jp3Y"
      },
      "outputs": [],
      "source": []
    },
    {
      "cell_type": "markdown",
      "source": [
        "The following function returns the values of a linked list as pairs in a list of tuples. If the linked list has an odd length, the values cannot be evenly paired and the function returns None."
      ],
      "metadata": {
        "id": "cQWwGu_6j60a"
      }
    },
    {
      "cell_type": "code",
      "source": [
        "class Node:\n",
        "  def __init__(self, val, next = None):\n",
        "    self.value = val\n",
        "    self.next = next\n",
        "\n",
        "\n",
        "def pair_nodes(head):\n",
        "  if not head: #list is empty\n",
        "    return None\n",
        "\n",
        "  current = head\n",
        "  length = 0\n",
        "  while current:\n",
        "    length+=1\n",
        "    current = current.next\n",
        "\n",
        "  if length%2!=0:\n",
        "    return None\n",
        "\n",
        "  pairs = []\n",
        "  current = head\n",
        "  while current:\n",
        "    pairs.append((current.value, current.next.value))\n",
        "    current = current.next.next\n",
        "\n",
        "  return pairs"
      ],
      "metadata": {
        "id": "8vNIhBvLj9T4"
      },
      "execution_count": 2,
      "outputs": []
    },
    {
      "cell_type": "markdown",
      "source": [
        "# temporary head technique"
      ],
      "metadata": {
        "id": "rLwrDzT9ku3I"
      }
    },
    {
      "cell_type": "markdown",
      "source": [
        "When we solve linked list problems, we often encounter edge cases that involve the head of a linked list. Common edge cases involving the head of a linked list include:\n",
        "\n",
        "- Deleting the current head of a linked list\n",
        "- Adding a new element to the front of a linked list\n",
        "- Reducing a linked list containing only one node to an empty list\n",
        "- Adding a new node to an empty list"
      ],
      "metadata": {
        "id": "xe27hMxYk26y"
      }
    },
    {
      "cell_type": "code",
      "source": [],
      "metadata": {
        "id": "zoWqr4MbkxLc"
      },
      "execution_count": null,
      "outputs": []
    }
  ]
}