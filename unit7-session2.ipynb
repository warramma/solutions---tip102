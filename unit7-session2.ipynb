{
 "cells": [
  {
   "cell_type": "markdown",
   "metadata": {},
   "source": [
    "# Problem 1: Finding the Perfect Cruise\n",
    "It's vacation time! Given an integer vacation_length and a list of integers cruise_lengths sorted in ascending order, use binary search to return True if there is a cruise length that matches vacation_length and False otherwise.\n",
    "```python\n",
    "def find_cruise_length(cruise_lengths, vacation_length):\n",
    "    pass\n",
    "```\n",
    "Example Usage:\n",
    "```python\n",
    "print(find_cruise_length([9, 10, 11, 12, 13, 14, 15], 13))\n",
    "\n",
    "print(find_cruise_length([8, 9, 12, 13, 13, 14, 15], 11))\n",
    "```\n",
    "Example Output:\n",
    "```\n",
    "True\n",
    "False\n",
    "```"
   ]
  },
  {
   "cell_type": "code",
   "execution_count": null,
   "metadata": {},
   "outputs": [],
   "source": [
    "def find_cruise_length(cruise_lengths, vacation_length):\n",
    "    pass\n",
    "\n",
    "print(find_cruise_length([9, 10, 11, 12, 13, 14, 15], 13))\n",
    "\n",
    "print(find_cruise_length([8, 9, 12, 13, 13, 14, 15], 11))"
   ]
  },
  {
   "cell_type": "markdown",
   "metadata": {},
   "source": [
    "# Problem 2: Booking the Perfect Cruise Cabin\n",
    "As part of your cruise planning, you have a list of available cabins sorted in ascending order by their deck level. Given the list of available cabins represented by deck level, cabins, and an integer preferred_deck, write a recursive function find_cabin_index() that returns the index of preferred_deck. If a cabin with your preferred_deck does not exist in cabins, return the index where it would be if it were added to the list to maintain the sorted order.\n",
    "\n",
    "Your algorithm must have O(log n) time complexity.\n",
    "```python\n",
    "def find_cabin_index(cabins, preferred_deck):\n",
    "    pass\n",
    "```\n",
    "Example Usage:\n",
    "```python\n",
    "print(find_cabin_index([1, 3, 5, 6], 5))\n",
    "print(find_cabin_index([1, 3, 5, 6], 2))\n",
    "print(find_cabin_index([1, 3, 5, 6], 7))\n",
    "```\n",
    "Example Output:\n",
    "```\n",
    "2\n",
    "1\n",
    "4\n",
    "```"
   ]
  },
  {
   "cell_type": "code",
   "execution_count": null,
   "metadata": {},
   "outputs": [],
   "source": [
    "def find_cabin_index(cabins, preferred_deck):\n",
    "    pass\n",
    "\n",
    "print(find_cabin_index([1, 3, 5, 6], 5))\n",
    "print(find_cabin_index([1, 3, 5, 6], 2))\n",
    "print(find_cabin_index([1, 3, 5, 6], 7))"
   ]
  },
  {
   "cell_type": "markdown",
   "metadata": {},
   "source": [
    "# Problem 3: Count Checked In Passengers\n",
    "As a cruise ship worker, you're in charge of tracking how many passengers have checked in to their rooms thus far. You are given a list of rooms where passengers are either checked in (represented by a 1) or not checked in (represented by a 0). The list is sorted, so all the 0s appear before any 1s.\n",
    "\n",
    "Write a function count_checked_in_passengers() that efficiently counts and returns the total number of checked-in passengers (1s) in the list in O(log n) time.\n",
    "```python\n",
    "def checked_in_passnegers(rooms):\n",
    "    pass\n",
    "```\n",
    "Example Usage:\n",
    "```python\n",
    "rooms1 = [0, 0, 0, 1, 1, 1, 1]\n",
    "rooms2 = [0, 0, 0, 0, 0, 1]\n",
    "rooms3 = [0, 0, 0, 0, 0, 0]\n",
    "\n",
    "print(count_checked_in_passengers(rooms1)) \n",
    "print(count_checked_in_passengers(rooms2))\n",
    "print(count_checked_in_passengers(rooms3))\n",
    "```\n",
    "Example Output:\n",
    "```\n",
    "4\n",
    "1\n",
    "0\n",
    "```"
   ]
  },
  {
   "cell_type": "code",
   "execution_count": 2,
   "metadata": {},
   "outputs": [
    {
     "name": "stdout",
     "output_type": "stream",
     "text": [
      "None\n",
      "None\n",
      "None\n"
     ]
    }
   ],
   "source": [
    "def count_checked_in_passengers(rooms):\n",
    "    pass\n",
    "\n",
    "rooms1 = [0, 0, 0, 1, 1, 1, 1]\n",
    "rooms2 = [0, 0, 0, 0, 0, 1]\n",
    "rooms3 = [0, 0, 0, 0, 0, 0]\n",
    "\n",
    "print(count_checked_in_passengers(rooms1)) \n",
    "print(count_checked_in_passengers(rooms2))\n",
    "print(count_checked_in_passengers(rooms3))"
   ]
  },
  {
   "cell_type": "markdown",
   "metadata": {},
   "source": [
    "# Problem 4: Determining Profitability of Excursions\n",
    "As the activities director on a cruise ship, you’re organizing excursions for the passengers. You have a sorted list of non-negative integers excursion_counts, where each number represents the number of passengers who have signed up for various excursions at your next cruise destination. The list is considered profitable if there exists a number x such that there are exactly x excursions that have at least x passengers signed up.\n",
    "\n",
    "Write a function that detrmines whether excursion_counts is profitable. If it is profitable, return the value of x. If it is not profitable, return -1. It can be proven that if excursion_counts is profitable, the value for x is unique.\n",
    "\n",
    "Evaluate the time and space complexity of your solution. Define your variables and provide a rationale for why you believe your solution has the stated time and space complexity.\n",
    "\n",
    "```python\n",
    "def is_profitable(excursion_counts):\n",
    "    pass\n",
    "```\n",
    "Example Usage:\n",
    "```python\n",
    "print(is_profitable([3, 5]))\n",
    "print(is_profitable([0, 0]))\n",
    "```\n",
    "Example Output:\n",
    "```\n",
    "2\n",
    "Example 1 Explanation: There are 2 values (3 and 5) that are greater than or equal to 2.\n",
    "\n",
    "-1 \n",
    "Example 2 Explanation: No numbers fit the criteria for x.\n",
    "    - If x = 0, there should be 0 numbers >= x, but there are 2.\n",
    "\t- If x = 1, there should be 1 number >= x, but there are 0.\n",
    "\t- If x = 2, there should be 2 numbers >= x, but there are 0.\n",
    "\t- x cannot be greater since there are only 2 numbers in nums.\n",
    "```"
   ]
  },
  {
   "cell_type": "code",
   "execution_count": null,
   "metadata": {},
   "outputs": [],
   "source": [
    "def is_profitable(excursion_counts):\n",
    "    pass\n",
    "\n",
    "print(is_profitable([3, 5]))\n",
    "print(is_profitable([0, 0]))"
   ]
  },
  {
   "cell_type": "markdown",
   "metadata": {},
   "source": [
    "# Problem 5: Finding the Shallowest Point\n",
    "As the captain of the cruise ship, you need to take a detour to steer clear of an incoming storm. Given an array of integers depths representing the varying water depths along your potential new route, write a function find_shallowest_point() to help you decide whether the new route is deep enough for your ship. The function should use a divide-and-conquer approach to return the shallowest point (minimum value) in depths. You may not use the built-in min() function.\n",
    "\n",
    "Evaluate the time and space complexity of your solution. Define your variables and provide a rationale for why you believe your solution has the stated time and space complexity.\n",
    "```python\n",
    "def find_shallowest_point(arr):\n",
    "    pass\n",
    "```\n",
    "Example Usage:\n",
    "```python\n",
    "print(find_shallowest_point([5, 7, 2, 8, 3]))\n",
    "print(find_shallowest_point([12, 15, 10, 21]))\n",
    "```\n",
    "Example Output:\n",
    "```\n",
    "2\n",
    "10\n",
    "```"
   ]
  },
  {
   "cell_type": "code",
   "execution_count": null,
   "metadata": {},
   "outputs": [],
   "source": [
    "def find_shallowest_point(arr):\n",
    "    pass\n",
    "\n",
    "print(find_shallowest_point([5, 7, 2, 8, 3]))\n",
    "print(find_shallowest_point([12, 15, 10, 21]))\\"
   ]
  },
  {
   "cell_type": "markdown",
   "metadata": {},
   "source": [
    "# Problem 6: Cruise Ship Treasure Hunt\n",
    "As a fun game, the cruise ship director has organized a treasure hunt for the kids on board and hidden a chest of candy in one of the rooms on board. The rooms are organized in a m x n grid, where each row and each column are sorted in ascending order by room number. Given an integer representing the room number where the prize is hidden treasure, use a divide and conquer approach to return a tuple in the form (row, col) representing the row and column indices where treasure was found. If treasure is not in the matrix, return (-1, -1).\n",
    "\n",
    "Evaluate the time and space complexity of your solution. Define your variables and provide a rationale for why you believe your solution has the stated time and space complexity.\n",
    "```python\n",
    "def find_treasure(matrix, treasure):\n",
    "\tpass\n",
    "```\n",
    "Example Usage:\n",
    "```python\n",
    "rooms = [\n",
    "    [1, 4, 7, 11],\n",
    "    [8, 9, 10, 20],\n",
    "    [11, 12, 17, 30],\n",
    "    [18, 21, 23, 40]\n",
    "]\n",
    "\n",
    "print(find_treasure(rooms, 17))\n",
    "print(find_treasure(rooms, 5))\n",
    "```\n",
    "Example Output:\n",
    "```\n",
    "(2, 2)\n",
    "(-1, -1)\n",
    "```"
   ]
  },
  {
   "cell_type": "code",
   "execution_count": null,
   "metadata": {},
   "outputs": [],
   "source": [
    "def find_treasure(matrix, treasure):\n",
    "\tpass\n",
    "\n",
    "rooms = [\n",
    "    [1, 4, 7, 11],\n",
    "    [8, 9, 10, 20],\n",
    "    [11, 12, 17, 30],\n",
    "    [18, 21, 23, 40]\n",
    "]\n",
    "\n",
    "print(find_treasure(rooms, 17))\n",
    "print(find_treasure(rooms, 5))"
   ]
  }
 ],
 "metadata": {
  "kernelspec": {
   "display_name": "Python 3",
   "language": "python",
   "name": "python3"
  },
  "language_info": {
   "codemirror_mode": {
    "name": "ipython",
    "version": 3
   },
   "file_extension": ".py",
   "mimetype": "text/x-python",
   "name": "python",
   "nbconvert_exporter": "python",
   "pygments_lexer": "ipython3",
   "version": "3.12.3"
  }
 },
 "nbformat": 4,
 "nbformat_minor": 2
}
