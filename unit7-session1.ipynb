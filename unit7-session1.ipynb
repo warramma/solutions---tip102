{
 "cells": [
  {
   "cell_type": "markdown",
   "metadata": {},
   "source": [
    "# Problem 1: Counting Iron Man's Suits\n",
    "Tony Stark, aka Iron Man, has designed many different suits over the years. Given a list of strings suits where each string is a suit in Stark's collection, count the total number of suits in the list.\n",
    "\n",
    "Implement the solution iteratively without the use of the len() function.\n",
    "Implement the solution recursively.\n",
    "Discuss: what are the similarities between the two solutions? What are the differences?\n",
    "\n",
    "```python\n",
    "def count_suits_iterative(suits):\n",
    "    pass\n",
    "\n",
    "\n",
    "def count_suits_recursive(suits):\n",
    "    pass\n",
    "\n",
    "```\n",
    "## Example Usage:\n",
    "print(count_suits_iterative([\"Mark I\", \"Mark II\", \"Mark III\"]))\n",
    "print(count_suits_recursive([\"Mark I\", \"Mark I\", \"Mark III\", \"Mark IV\"]))\n",
    "## Example Output:\n",
    "\n",
    "3\n",
    "\n",
    "4"
   ]
  },
  {
   "cell_type": "code",
   "execution_count": 3,
   "metadata": {},
   "outputs": [
    {
     "name": "stdout",
     "output_type": "stream",
     "text": [
      "3\n",
      "4\n"
     ]
    }
   ],
   "source": [
    "#iterative solution\n",
    "def count_suits_iterative(suits):\n",
    "    count = 0\n",
    "    for suit in suits:\n",
    "        count+=1\n",
    "    return count\n",
    "\n",
    "#recursive solution\n",
    "def count_suits_recursive(suits):\n",
    "    if not suits:\n",
    "        return 0\n",
    "    else:\n",
    "        return 1 + count_suits_recursive(suits[1:])\n",
    "\n",
    "print(count_suits_iterative([\"Mark I\", \"Mark II\", \"Mark III\"]))\n",
    "print(count_suits_recursive([\"Mark I\", \"Mark I\", \"Mark III\", \"Mark IV\"]))"
   ]
  },
  {
   "cell_type": "markdown",
   "metadata": {},
   "source": [
    "# Problem 2: Collecting Infinity Stones\n",
    "Thanos is collecting Infinity Stones. Given an array of integers stones representing the power of each stone, return the total power using a recursive approach.\n",
    "\n",
    "Evaluate the time complexity of your solution. Define your variables and provide a rationale for why you believe your solution has the stated time complexity.\n",
    "\n",
    "```python\n",
    "def sum_stones(stones):\n",
    "    pass\n",
    "```\n",
    "## Example Usage:\n",
    "```python\n",
    "print(sum_stones([5, 10, 15, 20, 25, 30]))\n",
    "print(sum_stones([12, 8, 22, 16, 10]))\n",
    "```\n",
    "## Example Output:\n",
    "\n",
    "105\n",
    "68"
   ]
  },
  {
   "cell_type": "code",
   "execution_count": 4,
   "metadata": {},
   "outputs": [
    {
     "name": "stdout",
     "output_type": "stream",
     "text": [
      "105\n",
      "68\n"
     ]
    }
   ],
   "source": [
    "def sum_stones(stones):\n",
    "    if not stones:\n",
    "        return 0\n",
    "    else:\n",
    "        return stones[0] + sum_stones(stones[1:])\n",
    "    \n",
    "print(sum_stones([5, 10, 15, 20, 25, 30]))\n",
    "print(sum_stones([12, 8, 22, 16, 10]))"
   ]
  },
  {
   "cell_type": "markdown",
   "metadata": {},
   "source": [
    "# Problem 3: Counting Unique Suits\n",
    "Some of Iron Man's suits are duplicates. Given a list of strings suits where each string is a suit in Stark's collection, count the total number of unique suits in the list.\n",
    "\n",
    "Implement the solution iteratively.\n",
    "Implement the solution recursively.\n",
    "Discuss: what are the similarities between the two solutions? What are the differences?\n",
    "Evaluate the time complexity of each solution. Are they the same? Define your variables and provide a rationale for why you believe your solution has the stated time complexity.\n",
    "```python\n",
    "def count_suits_iterative(suits):\n",
    "    pass\n",
    "\n",
    "def count_suits_recursive(suits):\n",
    "    pass\n",
    "```\n",
    "Example Usage:\n",
    "```python\n",
    "print(count_suits_iterative([\"Mark I\", \"Mark II\", \"Mark III\"]))\n",
    "print(count_suits_recursive([\"Mark I\", \"Mark I\", \"Mark III\"]))\n",
    "```\n",
    "Example Output:\n",
    "\n",
    "3\n",
    "2\n",
    "\n",
    "💡 Hint: Multiple Recursive Cases"
   ]
  },
  {
   "cell_type": "code",
   "execution_count": 6,
   "metadata": {},
   "outputs": [
    {
     "name": "stdout",
     "output_type": "stream",
     "text": [
      "3\n",
      "2\n"
     ]
    }
   ],
   "source": [
    "def count_suits_iterative(suits):\n",
    "    unique_suits = set()\n",
    "    for suit in suits:\n",
    "        unique_suits.add(suit)\n",
    "    return len(unique_suits)\n",
    "\n",
    "def count_suits_recursive(suits):\n",
    "    #use a helper function\n",
    "    return unique_suits_recursive(suits, set())\n",
    "\n",
    "def unique_suits_recursive(lst, set):\n",
    "    if not lst:\n",
    "        return len(set)\n",
    "    else:\n",
    "        set.add(lst[0])\n",
    "        return unique_suits_recursive(lst[1:], set)\n",
    "\n",
    "print(count_suits_iterative([\"Mark I\", \"Mark II\", \"Mark III\"]))\n",
    "print(count_suits_recursive([\"Mark I\", \"Mark I\", \"Mark III\"]))"
   ]
  }
 ],
 "metadata": {
  "kernelspec": {
   "display_name": "Python 3",
   "language": "python",
   "name": "python3"
  },
  "language_info": {
   "codemirror_mode": {
    "name": "ipython",
    "version": 3
   },
   "file_extension": ".py",
   "mimetype": "text/x-python",
   "name": "python",
   "nbconvert_exporter": "python",
   "pygments_lexer": "ipython3",
   "version": "3.12.3"
  }
 },
 "nbformat": 4,
 "nbformat_minor": 2
}
