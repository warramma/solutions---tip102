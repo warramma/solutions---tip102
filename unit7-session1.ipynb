{
 "cells": [
  {
   "cell_type": "markdown",
   "metadata": {},
   "source": [
    "# Problem 1: Counting Iron Man's Suits\n",
    "Tony Stark, aka Iron Man, has designed many different suits over the years. Given a list of strings suits where each string is a suit in Stark's collection, count the total number of suits in the list.\n",
    "\n",
    "Implement the solution iteratively without the use of the len() function.\n",
    "Implement the solution recursively.\n",
    "Discuss: what are the similarities between the two solutions? What are the differences?\n",
    "\n",
    "```python\n",
    "def count_suits_iterative(suits):\n",
    "    pass\n",
    "\n",
    "\n",
    "def count_suits_recursive(suits):\n",
    "    pass\n",
    "\n",
    "```\n",
    "## Example Usage:\n",
    "print(count_suits_iterative([\"Mark I\", \"Mark II\", \"Mark III\"]))\n",
    "print(count_suits_recursive([\"Mark I\", \"Mark I\", \"Mark III\", \"Mark IV\"]))\n",
    "## Example Output:\n",
    "\n",
    "3\n",
    "\n",
    "4"
   ]
  },
  {
   "cell_type": "code",
   "execution_count": 3,
   "metadata": {},
   "outputs": [
    {
     "name": "stdout",
     "output_type": "stream",
     "text": [
      "3\n",
      "4\n"
     ]
    }
   ],
   "source": [
    "#iterative solution\n",
    "def count_suits_iterative(suits):\n",
    "    count = 0\n",
    "    for suit in suits:\n",
    "        count+=1\n",
    "    return count\n",
    "\n",
    "#recursive solution\n",
    "def count_suits_recursive(suits):\n",
    "    if not suits:\n",
    "        return 0\n",
    "    else:\n",
    "        return 1 + count_suits_recursive(suits[1:])\n",
    "\n",
    "print(count_suits_iterative([\"Mark I\", \"Mark II\", \"Mark III\"]))\n",
    "print(count_suits_recursive([\"Mark I\", \"Mark I\", \"Mark III\", \"Mark IV\"]))"
   ]
  },
  {
   "cell_type": "markdown",
   "metadata": {},
   "source": [
    "# Problem 2: Collecting Infinity Stones\n",
    "Thanos is collecting Infinity Stones. Given an array of integers stones representing the power of each stone, return the total power using a recursive approach.\n",
    "\n",
    "Evaluate the time complexity of your solution. Define your variables and provide a rationale for why you believe your solution has the stated time complexity.\n",
    "\n",
    "```python\n",
    "def sum_stones(stones):\n",
    "    pass\n",
    "```\n",
    "## Example Usage:\n",
    "```python\n",
    "print(sum_stones([5, 10, 15, 20, 25, 30]))\n",
    "print(sum_stones([12, 8, 22, 16, 10]))\n",
    "```\n",
    "## Example Output:\n",
    "\n",
    "105\n",
    "68"
   ]
  },
  {
   "cell_type": "code",
   "execution_count": 4,
   "metadata": {},
   "outputs": [
    {
     "name": "stdout",
     "output_type": "stream",
     "text": [
      "105\n",
      "68\n"
     ]
    }
   ],
   "source": [
    "def sum_stones(stones):\n",
    "    if not stones:\n",
    "        return 0\n",
    "    else:\n",
    "        return stones[0] + sum_stones(stones[1:])\n",
    "    \n",
    "print(sum_stones([5, 10, 15, 20, 25, 30]))\n",
    "print(sum_stones([12, 8, 22, 16, 10]))"
   ]
  },
  {
   "cell_type": "markdown",
   "metadata": {},
   "source": [
    "# Problem 3: Counting Unique Suits\n",
    "Some of Iron Man's suits are duplicates. Given a list of strings suits where each string is a suit in Stark's collection, count the total number of unique suits in the list.\n",
    "\n",
    "Implement the solution iteratively.\n",
    "Implement the solution recursively.\n",
    "Discuss: what are the similarities between the two solutions? What are the differences?\n",
    "Evaluate the time complexity of each solution. Are they the same? Define your variables and provide a rationale for why you believe your solution has the stated time complexity.\n",
    "```python\n",
    "def count_suits_iterative(suits):\n",
    "    pass\n",
    "\n",
    "def count_suits_recursive(suits):\n",
    "    pass\n",
    "```\n",
    "Example Usage:\n",
    "```python\n",
    "print(count_suits_iterative([\"Mark I\", \"Mark II\", \"Mark III\"]))\n",
    "print(count_suits_recursive([\"Mark I\", \"Mark I\", \"Mark III\"]))\n",
    "```\n",
    "Example Output:\n",
    "\n",
    "3\n",
    "2\n",
    "\n",
    "💡 Hint: Multiple Recursive Cases"
   ]
  },
  {
   "cell_type": "code",
   "execution_count": 6,
   "metadata": {},
   "outputs": [
    {
     "name": "stdout",
     "output_type": "stream",
     "text": [
      "3\n",
      "2\n"
     ]
    }
   ],
   "source": [
    "def count_suits_iterative(suits):\n",
    "    unique_suits = set()\n",
    "    for suit in suits:\n",
    "        unique_suits.add(suit)\n",
    "    return len(unique_suits)\n",
    "\n",
    "def count_suits_recursive(suits):\n",
    "    #use a helper function\n",
    "    return unique_suits_recursive(suits, set())\n",
    "\n",
    "def unique_suits_recursive(lst, set):\n",
    "    if not lst:\n",
    "        return len(set)\n",
    "    else:\n",
    "        set.add(lst[0])\n",
    "        return unique_suits_recursive(lst[1:], set)\n",
    "\n",
    "print(count_suits_iterative([\"Mark I\", \"Mark II\", \"Mark III\"]))\n",
    "print(count_suits_recursive([\"Mark I\", \"Mark I\", \"Mark III\"]))"
   ]
  },
  {
   "cell_type": "markdown",
   "metadata": {},
   "source": [
    "# Problem 4: Calculating Groot's Growth\n",
    "Groot grows according to a pattern similar to the Fibonacci sequence. Given n, find the height of Groot after n months using a recursive method.\n",
    "\n",
    "The Fibonacci numbers, commonly denoted F(n) form a sequence, called the Fibonacci sequence, such that each number is the sum of the two preceding ones, starting from 0 and 1. That is,\n",
    "```\n",
    "F(0) = 0, F(1) = 1\n",
    "F(n) = F(n - 1) + F(n - 2), for n > 1.\n",
    "```\n",
    "Evaluate the time complexity of your solution. Define your variables and provide a rationale for why you believe your solution has the stated time complexity.\n",
    "```python\n",
    "def fibonacci_growth(n):\n",
    "    pass\n",
    "```\n",
    "Example Usage:\n",
    "```python\n",
    "print(fibonacci_growth(5))\n",
    "print(fibonacci_growth(8))\n",
    "```\n",
    "Example Output:\n",
    "```\n",
    "5\n",
    "21\n",
    "```\n"
   ]
  },
  {
   "cell_type": "code",
   "execution_count": 7,
   "metadata": {},
   "outputs": [
    {
     "name": "stdout",
     "output_type": "stream",
     "text": [
      "5\n",
      "21\n"
     ]
    }
   ],
   "source": [
    "def fibonacci_growth(n):\n",
    "    if n == 0:\n",
    "        return 0\n",
    "    elif n == 1:\n",
    "        return 1\n",
    "    else:\n",
    "        return fibonacci_growth(n-1) + fibonacci_growth(n-2)\n",
    "\n",
    "print(fibonacci_growth(5))\n",
    "print(fibonacci_growth(8))"
   ]
  },
  {
   "cell_type": "code",
   "execution_count": null,
   "metadata": {},
   "outputs": [],
   "source": [
    "##dynamic programming approach\n",
    "\n",
    "def fibonacci_dynamic(n):\n",
    "    return fibo_iter(0, n)\n",
    "\n",
    "def fibo_iter(start, count):\n",
    "    next = 0\n",
    "    for i in range(count):\n",
    "        start = start + \n"
   ]
  },
  {
   "cell_type": "markdown",
   "metadata": {},
   "source": [
    "# Problem 5: Calculating the Power of the Fantastic Four\n",
    "The superhero team, The Fantastic Four, are training to increase their power levels. Their power level is represented as a power of 4. Write a recursive function that calculates the power of 4 raised to the nth power to determine their training level.\n",
    "\n",
    "Evaluate the time complexity of your solution. Define your variables and provide a rationale for why you believe your solution has the stated time complexity.\n",
    "```python\n",
    "def power_of_four(n):\n",
    "    pass\n",
    "```\n",
    "### Example Usage:\n",
    "```python\n",
    "print(power_of_four(2))\n",
    "print(power_of_four(-2))\n",
    "```\n",
    "### Example Output:\n",
    "```\n",
    "16\n",
    "Example 1 Explanation: 2 to the 4th power (4 * 4) is 16. \n",
    "16\n",
    "Example 2 Explanation: -2 to the 4th power is 1/(4 * 4) is 0.0625.\n",
    "```\n"
   ]
  },
  {
   "cell_type": "code",
   "execution_count": 14,
   "metadata": {},
   "outputs": [
    {
     "name": "stdout",
     "output_type": "stream",
     "text": [
      "16\n",
      "0.0625\n"
     ]
    }
   ],
   "source": [
    "def power_of_four(n):\n",
    "    if n==0:\n",
    "        return 1\n",
    "    if n==1:\n",
    "        return 4\n",
    "    else:\n",
    "        if n < 0:\n",
    "            return  1/4 * (power_of_four(n+1))\n",
    "        if n > 0:\n",
    "            return 4 * power_of_four(n-1)\n",
    "print(power_of_four(2))\n",
    "print(power_of_four(-2))"
   ]
  },
  {
   "cell_type": "markdown",
   "metadata": {},
   "source": [
    "# Problem 6: Strongest Avenger\n",
    "The Avengers need to determine who is the strongest. Given a list of their strengths, find the maximum strength using a recursive approach without using the max() function.\n",
    "\n",
    "Evaluate the time complexity of your solution. Define your variables and provide a rationale for why you believe your solution has the stated time complexity.\n",
    "```python\n",
    "def strongest_avenger(strengths):\n",
    "    pass\n",
    "```\n",
    "### Example Usage:\n",
    "```python\n",
    "print(strongest_avenger([88, 92, 95, 99, 97, 100, 94]))\n",
    "print(strongest_avenger([50, 75, 85, 60, 90]))\n",
    "```\n",
    "### Example Output:\n",
    "```\n",
    "100\n",
    "Example 1 Explanation: The maximum strength among the Avengers is 100.\n",
    "\n",
    "90\n",
    "Example 2 Explanation: The maximum strength among the Avengers is 90.\n",
    "```"
   ]
  },
  {
   "cell_type": "code",
   "execution_count": null,
   "metadata": {},
   "outputs": [
    {
     "name": "stdout",
     "output_type": "stream",
     "text": [
      "100\n",
      "90\n"
     ]
    }
   ],
   "source": [
    "def strongest_avenger(strengths):\n",
    "    if not strengths:\n",
    "        return float(\"-infinity\")\n",
    "    if strengths[0] >= strongest_avenger(strengths[1:]):\n",
    "        return strengths[0]\n",
    "    else:\n",
    "        return strongest_avenger(strengths[1:])\n",
    "print(strongest_avenger([88, 92, 95, 99, 97, 100, 94]))\n",
    "print(strongest_avenger([50, 75, 85, 60, 90]))\n"
   ]
  },
  {
   "cell_type": "code",
   "execution_count": null,
   "metadata": {},
   "outputs": [],
   "source": []
  }
 ],
 "metadata": {
  "kernelspec": {
   "display_name": "Python 3",
   "language": "python",
   "name": "python3"
  },
  "language_info": {
   "codemirror_mode": {
    "name": "ipython",
    "version": 3
   },
   "file_extension": ".py",
   "mimetype": "text/x-python",
   "name": "python",
   "nbconvert_exporter": "python",
   "pygments_lexer": "ipython3",
   "version": "3.12.3"
  }
 },
 "nbformat": 4,
 "nbformat_minor": 2
}
