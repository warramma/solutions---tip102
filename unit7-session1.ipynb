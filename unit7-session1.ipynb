{
 "cells": [
  {
   "cell_type": "markdown",
   "metadata": {},
   "source": [
    "# Problem 1: Counting Iron Man's Suits\n",
    "Tony Stark, aka Iron Man, has designed many different suits over the years. Given a list of strings suits where each string is a suit in Stark's collection, count the total number of suits in the list.\n",
    "\n",
    "Implement the solution iteratively without the use of the len() function.\n",
    "Implement the solution recursively.\n",
    "Discuss: what are the similarities between the two solutions? What are the differences?\n",
    "\n",
    "```python\n",
    "def count_suits_iterative(suits):\n",
    "    pass\n",
    "\n",
    "\n",
    "def count_suits_recursive(suits):\n",
    "    pass\n",
    "\n",
    "```\n",
    "## Example Usage:\n",
    "print(count_suits_iterative([\"Mark I\", \"Mark II\", \"Mark III\"]))\n",
    "print(count_suits_recursive([\"Mark I\", \"Mark I\", \"Mark III\", \"Mark IV\"]))\n",
    "## Example Output:\n",
    "\n",
    "3\n",
    "\n",
    "4"
   ]
  },
  {
   "cell_type": "code",
   "execution_count": 3,
   "metadata": {},
   "outputs": [
    {
     "name": "stdout",
     "output_type": "stream",
     "text": [
      "3\n",
      "4\n"
     ]
    }
   ],
   "source": [
    "#iterative solution\n",
    "def count_suits_iterative(suits):\n",
    "    count = 0\n",
    "    for suit in suits:\n",
    "        count+=1\n",
    "    return count\n",
    "\n",
    "#recursive solution\n",
    "def count_suits_recursive(suits):\n",
    "    if not suits:\n",
    "        return 0\n",
    "    else:\n",
    "        return 1 + count_suits_recursive(suits[1:])\n",
    "\n",
    "print(count_suits_iterative([\"Mark I\", \"Mark II\", \"Mark III\"]))\n",
    "print(count_suits_recursive([\"Mark I\", \"Mark I\", \"Mark III\", \"Mark IV\"]))"
   ]
  }
 ],
 "metadata": {
  "kernelspec": {
   "display_name": "Python 3",
   "language": "python",
   "name": "python3"
  },
  "language_info": {
   "codemirror_mode": {
    "name": "ipython",
    "version": 3
   },
   "file_extension": ".py",
   "mimetype": "text/x-python",
   "name": "python",
   "nbconvert_exporter": "python",
   "pygments_lexer": "ipython3",
   "version": "3.12.3"
  }
 },
 "nbformat": 4,
 "nbformat_minor": 2
}
